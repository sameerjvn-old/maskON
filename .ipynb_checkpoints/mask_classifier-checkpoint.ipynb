{
 "cells": [
  {
   "cell_type": "code",
   "execution_count": 9,
   "metadata": {
    "executionInfo": {
     "elapsed": 2350,
     "status": "ok",
     "timestamp": 1602820875547,
     "user": {
      "displayName": "Sameer Jathavedan",
      "photoUrl": "",
      "userId": "11470145212545908965"
     },
     "user_tz": -330
    },
    "id": "3zKr-D7EG9ol"
   },
   "outputs": [],
   "source": [
    "from fastai.vision.all import *\n",
    "from fastai.vision.widgets import *\n",
    "import requests"
   ]
  },
  {
   "cell_type": "markdown",
   "metadata": {
    "id": "KbePj0XxJLT6"
   },
   "source": [
    "## **MASK DETECTOR!!**"
   ]
  },
  {
   "cell_type": "markdown",
   "metadata": {
    "id": "lmOQyvRsJSKj"
   },
   "source": [
    "It's COVID pandemic and we need to take precautions to stay safe. This app helps us do that. Enter a URL of a picture of a person's face and click detect to see whether they have their mask **ON** or **OFF**. *(Ideally, they should be having it on)*. Take precautions and stay safe!"
   ]
  },
  {
   "cell_type": "code",
   "execution_count": 10,
   "metadata": {
    "executionInfo": {
     "elapsed": 18802,
     "status": "ok",
     "timestamp": 1602820916214,
     "user": {
      "displayName": "Sameer Jathavedan",
      "photoUrl": "",
      "userId": "11470145212545908965"
     },
     "user_tz": -330
    },
    "id": "I9lttYQbSgfZ"
   },
   "outputs": [],
   "source": [
    "path = Path()\n",
    "learn_inf = load_learner(path/'export.pkl', cpu=True)\n",
    "url_holder = widgets.Text(\n",
    "    value='https://upload.wikimedia.org/wikipedia/commons/c/c3/COVID-19_%28Coronavirus%29_Girl_in_mask.jpg',\n",
    "    placeholder='Type something',\n",
    "    description='URL:',\n",
    "    disabled=False\n",
    ")\n",
    "predict_btn = widgets.Button(\n",
    "    description='Detect!',\n",
    "    disabled=False,\n",
    "    button_style='', # 'success', 'info', 'warning', 'danger' or ''\n",
    "    tooltip='Click me',\n",
    ")\n",
    "out_pl = widgets.Output()\n",
    "label_pred = widgets.Label()"
   ]
  },
  {
   "cell_type": "code",
   "execution_count": 11,
   "metadata": {
    "executionInfo": {
     "elapsed": 18426,
     "status": "ok",
     "timestamp": 1602820916218,
     "user": {
      "displayName": "Sameer Jathavedan",
      "photoUrl": "",
      "userId": "11470145212545908965"
     },
     "user_tz": -330
    },
    "id": "bWFcLOPCTG4i"
   },
   "outputs": [],
   "source": [
    "def on_button_click_predict(change):\n",
    "  label_pred.value = ''\n",
    "  response = requests.get(url_holder.value, stream=True)\n",
    "  img = Image.open(response.raw)\n",
    "  out_pl.clear_output()\n",
    "  with out_pl: display(img.to_thumb(128, 128))\n",
    "  pred, pred_id, probs = learn_inf.predict(PILImage(img))\n",
    "  label_pred.value = f'Prediction: {pred}; Probability: {probs[pred_id]: .04f}'\n"
   ]
  },
  {
   "cell_type": "code",
   "execution_count": 12,
   "metadata": {
    "executionInfo": {
     "elapsed": 18031,
     "status": "ok",
     "timestamp": 1602820916220,
     "user": {
      "displayName": "Sameer Jathavedan",
      "photoUrl": "",
      "userId": "11470145212545908965"
     },
     "user_tz": -330
    },
    "id": "f8l4H_2HVETn"
   },
   "outputs": [],
   "source": [
    "predict_btn.on_click(on_button_click_predict)"
   ]
  },
  {
   "cell_type": "code",
   "execution_count": 13,
   "metadata": {
    "colab": {
     "base_uri": "https://localhost:8080/",
     "height": 222,
     "referenced_widgets": [
      "561809c2b175473aa91e14cc170c20d0",
      "49e322a4a4a04c03b032cfb8dd4dec1c",
      "054b08cc15fb449f9ee21ded32f78f74",
      "4795f64dcbda4a5583f06c87c11fbab9",
      "9f0b4cd9e08343358daeefb82287250a",
      "26d71a6176ea4d749b857d3eb36a0856",
      "33e41e229c38459f8aea2239b8945ef6",
      "b302cb3cb3f14a23917b9d40c5c9e4ef",
      "2e237dce84f646c8b904c749630ceb3d",
      "f64d3512e9fc420fb672bbae1daa95b4",
      "fd7a9629890e44628b73a87e28cf724e",
      "7ccda148abb64fbc8907e925440037b2",
      "310d04c8585a4d8789327e3c569091cc"
     ]
    },
    "executionInfo": {
     "elapsed": 16779,
     "status": "ok",
     "timestamp": 1602820916221,
     "user": {
      "displayName": "Sameer Jathavedan",
      "photoUrl": "",
      "userId": "11470145212545908965"
     },
     "user_tz": -330
    },
    "id": "1nm0KD5rVSg5",
    "outputId": "dac5fdb8-0601-4db3-8aae-fd1b2242b2fc"
   },
   "outputs": [
    {
     "data": {
      "application/vnd.jupyter.widget-view+json": {
       "model_id": "e744d280b3064481a85c20394e915f87",
       "version_major": 2,
       "version_minor": 0
      },
      "text/plain": [
       "VBox(children=(Label(value='Enter a link of a face image (and hit Detect!)'), Text(value='https://upload.wikim…"
      ]
     },
     "metadata": {},
     "output_type": "display_data"
    },
    {
     "data": {
      "text/html": [],
      "text/plain": [
       "<IPython.core.display.HTML object>"
      ]
     },
     "metadata": {},
     "output_type": "display_data"
    },
    {
     "data": {
      "text/html": [],
      "text/plain": [
       "<IPython.core.display.HTML object>"
      ]
     },
     "metadata": {},
     "output_type": "display_data"
    },
    {
     "data": {
      "text/html": [],
      "text/plain": [
       "<IPython.core.display.HTML object>"
      ]
     },
     "metadata": {},
     "output_type": "display_data"
    }
   ],
   "source": [
    "display(VBox([widgets.Label('Enter a link of a face image (and hit Detect!)'), url_holder, predict_btn, out_pl, label_pred]))"
   ]
  },
  {
   "cell_type": "code",
   "execution_count": null,
   "metadata": {},
   "outputs": [],
   "source": []
  },
  {
   "cell_type": "code",
   "execution_count": null,
   "metadata": {},
   "outputs": [],
   "source": []
  },
  {
   "cell_type": "code",
   "execution_count": null,
   "metadata": {},
   "outputs": [],
   "source": []
  },
  {
   "cell_type": "code",
   "execution_count": null,
   "metadata": {},
   "outputs": [],
   "source": []
  }
 ],
 "metadata": {
  "colab": {
   "authorship_tag": "ABX9TyOmRIkgghpjRWTbWBdxRz0h",
   "mount_file_id": "1kU13Ja2-qfyVtMku6kjgcwGNh5W_a5je",
   "name": "mask_classifier.ipynb",
   "provenance": [
    {
     "file_id": "1BUfKyQoz9B-GIT02B4OvfzoWa17Ajt5r",
     "timestamp": 1602662515333
    }
   ],
   "toc_visible": true
  },
  "kernelspec": {
   "display_name": "maskenv",
   "language": "python",
   "name": "maskenv"
  },
  "language_info": {
   "codemirror_mode": {
    "name": "ipython",
    "version": 3
   },
   "file_extension": ".py",
   "mimetype": "text/x-python",
   "name": "python",
   "nbconvert_exporter": "python",
   "pygments_lexer": "ipython3",
   "version": "3.8.3"
  },
  "widgets": {
   "application/vnd.jupyter.widget-state+json": {
    "054b08cc15fb449f9ee21ded32f78f74": {
     "model_module": "@jupyter-widgets/controls",
     "model_name": "LabelModel",
     "state": {
      "_dom_classes": [],
      "_model_module": "@jupyter-widgets/controls",
      "_model_module_version": "1.5.0",
      "_model_name": "LabelModel",
      "_view_count": null,
      "_view_module": "@jupyter-widgets/controls",
      "_view_module_version": "1.5.0",
      "_view_name": "LabelView",
      "description": "",
      "description_tooltip": null,
      "layout": "IPY_MODEL_b302cb3cb3f14a23917b9d40c5c9e4ef",
      "placeholder": "​",
      "style": "IPY_MODEL_33e41e229c38459f8aea2239b8945ef6",
      "value": "Upload a face!"
     }
    },
    "26d71a6176ea4d749b857d3eb36a0856": {
     "model_module": "@jupyter-widgets/controls",
     "model_name": "LabelModel",
     "state": {
      "_dom_classes": [],
      "_model_module": "@jupyter-widgets/controls",
      "_model_module_version": "1.5.0",
      "_model_name": "LabelModel",
      "_view_count": null,
      "_view_module": "@jupyter-widgets/controls",
      "_view_module_version": "1.5.0",
      "_view_name": "LabelView",
      "description": "",
      "description_tooltip": null,
      "layout": "IPY_MODEL_7ccda148abb64fbc8907e925440037b2",
      "placeholder": "​",
      "style": "IPY_MODEL_fd7a9629890e44628b73a87e28cf724e",
      "value": "Prediction: MaskOFF; Probability:  1.0000"
     }
    },
    "2e237dce84f646c8b904c749630ceb3d": {
     "model_module": "@jupyter-widgets/controls",
     "model_name": "ButtonStyleModel",
     "state": {
      "_model_module": "@jupyter-widgets/controls",
      "_model_module_version": "1.5.0",
      "_model_name": "ButtonStyleModel",
      "_view_count": null,
      "_view_module": "@jupyter-widgets/base",
      "_view_module_version": "1.2.0",
      "_view_name": "StyleView",
      "button_color": null,
      "font_weight": ""
     }
    },
    "310d04c8585a4d8789327e3c569091cc": {
     "model_module": "@jupyter-widgets/base",
     "model_name": "LayoutModel",
     "state": {
      "_model_module": "@jupyter-widgets/base",
      "_model_module_version": "1.2.0",
      "_model_name": "LayoutModel",
      "_view_count": null,
      "_view_module": "@jupyter-widgets/base",
      "_view_module_version": "1.2.0",
      "_view_name": "LayoutView",
      "align_content": null,
      "align_items": null,
      "align_self": null,
      "border": null,
      "bottom": null,
      "display": null,
      "flex": null,
      "flex_flow": null,
      "grid_area": null,
      "grid_auto_columns": null,
      "grid_auto_flow": null,
      "grid_auto_rows": null,
      "grid_column": null,
      "grid_gap": null,
      "grid_row": null,
      "grid_template_areas": null,
      "grid_template_columns": null,
      "grid_template_rows": null,
      "height": null,
      "justify_content": null,
      "justify_items": null,
      "left": null,
      "margin": null,
      "max_height": null,
      "max_width": null,
      "min_height": null,
      "min_width": null,
      "object_fit": null,
      "object_position": null,
      "order": null,
      "overflow": null,
      "overflow_x": null,
      "overflow_y": null,
      "padding": null,
      "right": null,
      "top": null,
      "visibility": null,
      "width": null
     }
    },
    "33e41e229c38459f8aea2239b8945ef6": {
     "model_module": "@jupyter-widgets/controls",
     "model_name": "DescriptionStyleModel",
     "state": {
      "_model_module": "@jupyter-widgets/controls",
      "_model_module_version": "1.5.0",
      "_model_name": "DescriptionStyleModel",
      "_view_count": null,
      "_view_module": "@jupyter-widgets/base",
      "_view_module_version": "1.2.0",
      "_view_name": "StyleView",
      "description_width": ""
     }
    },
    "4795f64dcbda4a5583f06c87c11fbab9": {
     "model_module": "@jupyter-widgets/controls",
     "model_name": "FileUploadModel",
     "state": {
      "_counter": 1,
      "_dom_classes": [],
      "_model_module": "@jupyter-widgets/controls",
      "_model_module_version": "1.5.0",
      "_model_name": "FileUploadModel",
      "_view_count": null,
      "_view_module": "@jupyter-widgets/controls",
      "_view_module_version": "1.5.0",
      "_view_name": "FileUploadView",
      "accept": "",
      "button_style": "",
      "data": [
       null
      ],
      "description": "Upload",
      "description_tooltip": null,
      "disabled": false,
      "error": "",
      "icon": "upload",
      "layout": "IPY_MODEL_f64d3512e9fc420fb672bbae1daa95b4",
      "metadata": [
       {
        "lastModified": 1602667731321,
        "name": "face-no-mask.jpeg",
        "size": 13837,
        "type": "image/jpeg"
       }
      ],
      "multiple": false,
      "style": "IPY_MODEL_2e237dce84f646c8b904c749630ceb3d"
     }
    },
    "49e322a4a4a04c03b032cfb8dd4dec1c": {
     "model_module": "@jupyter-widgets/base",
     "model_name": "LayoutModel",
     "state": {
      "_model_module": "@jupyter-widgets/base",
      "_model_module_version": "1.2.0",
      "_model_name": "LayoutModel",
      "_view_count": null,
      "_view_module": "@jupyter-widgets/base",
      "_view_module_version": "1.2.0",
      "_view_name": "LayoutView",
      "align_content": null,
      "align_items": null,
      "align_self": null,
      "border": null,
      "bottom": null,
      "display": null,
      "flex": null,
      "flex_flow": null,
      "grid_area": null,
      "grid_auto_columns": null,
      "grid_auto_flow": null,
      "grid_auto_rows": null,
      "grid_column": null,
      "grid_gap": null,
      "grid_row": null,
      "grid_template_areas": null,
      "grid_template_columns": null,
      "grid_template_rows": null,
      "height": null,
      "justify_content": null,
      "justify_items": null,
      "left": null,
      "margin": null,
      "max_height": null,
      "max_width": null,
      "min_height": null,
      "min_width": null,
      "object_fit": null,
      "object_position": null,
      "order": null,
      "overflow": null,
      "overflow_x": null,
      "overflow_y": null,
      "padding": null,
      "right": null,
      "top": null,
      "visibility": null,
      "width": null
     }
    },
    "561809c2b175473aa91e14cc170c20d0": {
     "model_module": "@jupyter-widgets/controls",
     "model_name": "VBoxModel",
     "state": {
      "_dom_classes": [],
      "_model_module": "@jupyter-widgets/controls",
      "_model_module_version": "1.5.0",
      "_model_name": "VBoxModel",
      "_view_count": null,
      "_view_module": "@jupyter-widgets/controls",
      "_view_module_version": "1.5.0",
      "_view_name": "VBoxView",
      "box_style": "",
      "children": [
       "IPY_MODEL_054b08cc15fb449f9ee21ded32f78f74",
       "IPY_MODEL_4795f64dcbda4a5583f06c87c11fbab9",
       "IPY_MODEL_9f0b4cd9e08343358daeefb82287250a",
       "IPY_MODEL_26d71a6176ea4d749b857d3eb36a0856"
      ],
      "layout": "IPY_MODEL_49e322a4a4a04c03b032cfb8dd4dec1c"
     }
    },
    "7ccda148abb64fbc8907e925440037b2": {
     "model_module": "@jupyter-widgets/base",
     "model_name": "LayoutModel",
     "state": {
      "_model_module": "@jupyter-widgets/base",
      "_model_module_version": "1.2.0",
      "_model_name": "LayoutModel",
      "_view_count": null,
      "_view_module": "@jupyter-widgets/base",
      "_view_module_version": "1.2.0",
      "_view_name": "LayoutView",
      "align_content": null,
      "align_items": null,
      "align_self": null,
      "border": null,
      "bottom": null,
      "display": null,
      "flex": null,
      "flex_flow": null,
      "grid_area": null,
      "grid_auto_columns": null,
      "grid_auto_flow": null,
      "grid_auto_rows": null,
      "grid_column": null,
      "grid_gap": null,
      "grid_row": null,
      "grid_template_areas": null,
      "grid_template_columns": null,
      "grid_template_rows": null,
      "height": null,
      "justify_content": null,
      "justify_items": null,
      "left": null,
      "margin": null,
      "max_height": null,
      "max_width": null,
      "min_height": null,
      "min_width": null,
      "object_fit": null,
      "object_position": null,
      "order": null,
      "overflow": null,
      "overflow_x": null,
      "overflow_y": null,
      "padding": null,
      "right": null,
      "top": null,
      "visibility": null,
      "width": null
     }
    },
    "9f0b4cd9e08343358daeefb82287250a": {
     "model_module": "@jupyter-widgets/output",
     "model_name": "OutputModel",
     "state": {
      "_dom_classes": [],
      "_model_module": "@jupyter-widgets/output",
      "_model_module_version": "1.0.0",
      "_model_name": "OutputModel",
      "_view_count": null,
      "_view_module": "@jupyter-widgets/output",
      "_view_module_version": "1.0.0",
      "_view_name": "OutputView",
      "layout": "IPY_MODEL_310d04c8585a4d8789327e3c569091cc",
      "msg_id": "",
      "outputs": [
       {
        "image/png": "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\n",
        "metadata": {
         "tags": []
        },
        "output_type": "display_data",
        "text/plain": "<PIL.Image.Image image mode=RGB size=128x109 at 0x7F6E40501550>"
       }
      ]
     }
    },
    "b302cb3cb3f14a23917b9d40c5c9e4ef": {
     "model_module": "@jupyter-widgets/base",
     "model_name": "LayoutModel",
     "state": {
      "_model_module": "@jupyter-widgets/base",
      "_model_module_version": "1.2.0",
      "_model_name": "LayoutModel",
      "_view_count": null,
      "_view_module": "@jupyter-widgets/base",
      "_view_module_version": "1.2.0",
      "_view_name": "LayoutView",
      "align_content": null,
      "align_items": null,
      "align_self": null,
      "border": null,
      "bottom": null,
      "display": null,
      "flex": null,
      "flex_flow": null,
      "grid_area": null,
      "grid_auto_columns": null,
      "grid_auto_flow": null,
      "grid_auto_rows": null,
      "grid_column": null,
      "grid_gap": null,
      "grid_row": null,
      "grid_template_areas": null,
      "grid_template_columns": null,
      "grid_template_rows": null,
      "height": null,
      "justify_content": null,
      "justify_items": null,
      "left": null,
      "margin": null,
      "max_height": null,
      "max_width": null,
      "min_height": null,
      "min_width": null,
      "object_fit": null,
      "object_position": null,
      "order": null,
      "overflow": null,
      "overflow_x": null,
      "overflow_y": null,
      "padding": null,
      "right": null,
      "top": null,
      "visibility": null,
      "width": null
     }
    },
    "f64d3512e9fc420fb672bbae1daa95b4": {
     "model_module": "@jupyter-widgets/base",
     "model_name": "LayoutModel",
     "state": {
      "_model_module": "@jupyter-widgets/base",
      "_model_module_version": "1.2.0",
      "_model_name": "LayoutModel",
      "_view_count": null,
      "_view_module": "@jupyter-widgets/base",
      "_view_module_version": "1.2.0",
      "_view_name": "LayoutView",
      "align_content": null,
      "align_items": null,
      "align_self": null,
      "border": null,
      "bottom": null,
      "display": null,
      "flex": null,
      "flex_flow": null,
      "grid_area": null,
      "grid_auto_columns": null,
      "grid_auto_flow": null,
      "grid_auto_rows": null,
      "grid_column": null,
      "grid_gap": null,
      "grid_row": null,
      "grid_template_areas": null,
      "grid_template_columns": null,
      "grid_template_rows": null,
      "height": null,
      "justify_content": null,
      "justify_items": null,
      "left": null,
      "margin": null,
      "max_height": null,
      "max_width": null,
      "min_height": null,
      "min_width": null,
      "object_fit": null,
      "object_position": null,
      "order": null,
      "overflow": null,
      "overflow_x": null,
      "overflow_y": null,
      "padding": null,
      "right": null,
      "top": null,
      "visibility": null,
      "width": null
     }
    },
    "fd7a9629890e44628b73a87e28cf724e": {
     "model_module": "@jupyter-widgets/controls",
     "model_name": "DescriptionStyleModel",
     "state": {
      "_model_module": "@jupyter-widgets/controls",
      "_model_module_version": "1.5.0",
      "_model_name": "DescriptionStyleModel",
      "_view_count": null,
      "_view_module": "@jupyter-widgets/base",
      "_view_module_version": "1.2.0",
      "_view_name": "StyleView",
      "description_width": ""
     }
    }
   }
  }
 },
 "nbformat": 4,
 "nbformat_minor": 1
}
